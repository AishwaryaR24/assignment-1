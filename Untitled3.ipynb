{
 "cells": [
  {
   "cell_type": "code",
   "execution_count": 3,
   "id": "e91d7e22",
   "metadata": {},
   "outputs": [],
   "source": [
    "import cv2 as g\n",
    "import numpy as np"
   ]
  },
  {
   "cell_type": "code",
   "execution_count": 4,
   "id": "3c273ab7",
   "metadata": {},
   "outputs": [],
   "source": [
    "img=g.imread(\"dog.jpg\")"
   ]
  },
  {
   "cell_type": "code",
   "execution_count": 5,
   "id": "5c7d296f",
   "metadata": {},
   "outputs": [],
   "source": [
    "flages=[i for i in dir(g) if i.startswith('COLOR_BGR2')]"
   ]
  },
  {
   "cell_type": "code",
   "execution_count": 6,
   "id": "202ddd30",
   "metadata": {},
   "outputs": [
    {
     "data": {
      "text/plain": [
       "['COLOR_BGR2BGR555',\n",
       " 'COLOR_BGR2BGR565',\n",
       " 'COLOR_BGR2BGRA',\n",
       " 'COLOR_BGR2GRAY',\n",
       " 'COLOR_BGR2HLS',\n",
       " 'COLOR_BGR2HLS_FULL',\n",
       " 'COLOR_BGR2HSV',\n",
       " 'COLOR_BGR2HSV_FULL',\n",
       " 'COLOR_BGR2LAB',\n",
       " 'COLOR_BGR2LUV',\n",
       " 'COLOR_BGR2Lab',\n",
       " 'COLOR_BGR2Luv',\n",
       " 'COLOR_BGR2RGB',\n",
       " 'COLOR_BGR2RGBA',\n",
       " 'COLOR_BGR2XYZ',\n",
       " 'COLOR_BGR2YCR_CB',\n",
       " 'COLOR_BGR2YCrCb',\n",
       " 'COLOR_BGR2YUV',\n",
       " 'COLOR_BGR2YUV_I420',\n",
       " 'COLOR_BGR2YUV_IYUV',\n",
       " 'COLOR_BGR2YUV_YV12']"
      ]
     },
     "execution_count": 6,
     "metadata": {},
     "output_type": "execute_result"
    }
   ],
   "source": [
    "flages"
   ]
  },
  {
   "cell_type": "code",
   "execution_count": 7,
   "id": "145e9113",
   "metadata": {},
   "outputs": [],
   "source": [
    "con=g.cvtColor(img,g.COLOR_BGR2HLS)"
   ]
  },
  {
   "cell_type": "markdown",
   "id": "e959185b",
   "metadata": {},
   "source": [
    "g.imshow(\"image\",con)\n",
    "g.waitKey(0)\n",
    "g.destroyAllWindows()"
   ]
  },
  {
   "cell_type": "code",
   "execution_count": 8,
   "id": "8e508af3",
   "metadata": {},
   "outputs": [
    {
     "name": "stdout",
     "output_type": "stream",
     "text": [
      "(355, 474, 3)\n"
     ]
    }
   ],
   "source": [
    "print(img.shape)\n"
   ]
  },
  {
   "cell_type": "code",
   "execution_count": 9,
   "id": "f1e6166e",
   "metadata": {},
   "outputs": [
    {
     "name": "stdout",
     "output_type": "stream",
     "text": [
      "(178, 237, 3)\n"
     ]
    }
   ],
   "source": [
    "img_re=g.resize(img,None,fx=0.5,fy=0.5,interpolation=g.INTER_LINEAR)\n",
    "print(img_re.shape)"
   ]
  },
  {
   "cell_type": "markdown",
   "id": "9f42ef93",
   "metadata": {},
   "source": [
    "print(img_re.shape)\n",
    "g.imshow(\"image\",img_re)\n",
    "g.waitKey(0)\n",
    "g.destroyAllWindows()"
   ]
  },
  {
   "cell_type": "code",
   "execution_count": 10,
   "id": "3696f5e7",
   "metadata": {},
   "outputs": [],
   "source": [
    "img_re2=g.resize(img,(360,360))"
   ]
  },
  {
   "cell_type": "markdown",
   "id": "44a79b45",
   "metadata": {},
   "source": [
    "g.imshow(\"Original Image\",img)\n",
    "g.waitKey(0)\n",
    "g.imshow(\"resized Image\",img_re2)\n",
    "g.waitKey(0)\n",
    "g.destroyAllWindows()"
   ]
  },
  {
   "cell_type": "code",
   "execution_count": 11,
   "id": "bc5dd834",
   "metadata": {},
   "outputs": [],
   "source": [
    "ker=np.ones((3,5),float)/25"
   ]
  },
  {
   "cell_type": "code",
   "execution_count": 12,
   "id": "d1ae8059",
   "metadata": {},
   "outputs": [],
   "source": [
    "tdf=g.filter2D(img,-1,ker)\n"
   ]
  },
  {
   "cell_type": "markdown",
   "id": "d9c9eb8b",
   "metadata": {},
   "source": [
    "g.imshow(\"image\",img)\n",
    "g.waitKey(0)\n",
    "g.imshow(\"2D FILTER\",tdf)\n",
    "g.waitKey(0)\n",
    "g.destroyAllWindows()"
   ]
  },
  {
   "cell_type": "code",
   "execution_count": 14,
   "id": "eb77976b",
   "metadata": {},
   "outputs": [],
   "source": [
    "blur=g.blur(img,(2,2))"
   ]
  },
  {
   "cell_type": "markdown",
   "id": "dd324590",
   "metadata": {},
   "source": [
    "g.imshow(\"image\",blur)\n",
    "g.waitKey(0)\n",
    "g.destroyAllWindows()"
   ]
  },
  {
   "cell_type": "code",
   "execution_count": null,
   "id": "c5018048",
   "metadata": {},
   "outputs": [],
   "source": []
  }
 ],
 "metadata": {
  "kernelspec": {
   "display_name": "Python 3 (ipykernel)",
   "language": "python",
   "name": "python3"
  },
  "language_info": {
   "codemirror_mode": {
    "name": "ipython",
    "version": 3
   },
   "file_extension": ".py",
   "mimetype": "text/x-python",
   "name": "python",
   "nbconvert_exporter": "python",
   "pygments_lexer": "ipython3",
   "version": "3.9.16"
  }
 },
 "nbformat": 4,
 "nbformat_minor": 5
}
