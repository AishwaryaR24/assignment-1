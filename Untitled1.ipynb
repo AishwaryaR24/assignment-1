{
 "cells": [
  {
   "cell_type": "code",
   "execution_count": 1,
   "id": "672152dc",
   "metadata": {},
   "outputs": [],
   "source": [
    "import cv2 as g"
   ]
  },
  {
   "cell_type": "code",
   "execution_count": 2,
   "id": "f72c78d8",
   "metadata": {},
   "outputs": [],
   "source": [
    "im=g.imread(\"oi.jpg\")"
   ]
  },
  {
   "cell_type": "code",
   "execution_count": 3,
   "id": "576835e4",
   "metadata": {},
   "outputs": [],
   "source": [
    "b=g.blur(im,(8,8))"
   ]
  },
  {
   "cell_type": "code",
   "execution_count": 4,
   "id": "858651d3",
   "metadata": {},
   "outputs": [],
   "source": [
    "gau=g.GaussianBlur(im,(5,5),5)"
   ]
  },
  {
   "cell_type": "code",
   "execution_count": 5,
   "id": "26c6907e",
   "metadata": {},
   "outputs": [],
   "source": [
    "med=g.medianBlur(im,9)"
   ]
  },
  {
   "cell_type": "code",
   "execution_count": 6,
   "id": "db6424af",
   "metadata": {},
   "outputs": [],
   "source": [
    "bilate=g.bilateralFilter(im,50,50,30)"
   ]
  },
  {
   "cell_type": "markdown",
   "id": "0fbdcfd7",
   "metadata": {},
   "source": [
    "g.imshow(\"im\",im)\n",
    "g.waitKey(0)\n",
    "g.destroyAllWindows()\n",
    "g.imshow(\"blur\",b)\n",
    "g.waitKey(0)\n",
    "g.destroyAllWindows()\n",
    "g.imshow(\"gau\",gau)\n",
    "g.waitKey(0)\n",
    "g.destroyAllWindows()\n",
    "g.imshow(\"median\",med)\n",
    "g.waitKey(0)\n",
    "g.destroyAllWindows()\n",
    "g.imshow(\"bilateral\",bilate)\n",
    "g.waitKey(0)\n",
    "g.destroyAllWindows()"
   ]
  },
  {
   "cell_type": "code",
   "execution_count": 7,
   "id": "e7a7b8c5",
   "metadata": {},
   "outputs": [
    {
     "data": {
      "text/plain": [
       "True"
      ]
     },
     "execution_count": 7,
     "metadata": {},
     "output_type": "execute_result"
    }
   ],
   "source": [
    "g.imwrite(\"blur.jpg\",b)"
   ]
  },
  {
   "cell_type": "code",
   "execution_count": 8,
   "id": "396a2018",
   "metadata": {},
   "outputs": [
    {
     "data": {
      "text/plain": [
       "True"
      ]
     },
     "execution_count": 8,
     "metadata": {},
     "output_type": "execute_result"
    }
   ],
   "source": [
    "g.imwrite(\"gaussian.jpg\",gau)"
   ]
  },
  {
   "cell_type": "code",
   "execution_count": 10,
   "id": "6b3b06f9",
   "metadata": {},
   "outputs": [
    {
     "data": {
      "text/plain": [
       "True"
      ]
     },
     "execution_count": 10,
     "metadata": {},
     "output_type": "execute_result"
    }
   ],
   "source": [
    "g.imwrite(\"median blur.jpg\",med)"
   ]
  },
  {
   "cell_type": "code",
   "execution_count": 11,
   "id": "e75063ae",
   "metadata": {},
   "outputs": [
    {
     "data": {
      "text/plain": [
       "True"
      ]
     },
     "execution_count": 11,
     "metadata": {},
     "output_type": "execute_result"
    }
   ],
   "source": [
    "g.imwrite(\"bilateral.jpg\",bilate)"
   ]
  },
  {
   "cell_type": "code",
   "execution_count": null,
   "id": "bcec6db5",
   "metadata": {},
   "outputs": [],
   "source": []
  }
 ],
 "metadata": {
  "kernelspec": {
   "display_name": "Python 3 (ipykernel)",
   "language": "python",
   "name": "python3"
  },
  "language_info": {
   "codemirror_mode": {
    "name": "ipython",
    "version": 3
   },
   "file_extension": ".py",
   "mimetype": "text/x-python",
   "name": "python",
   "nbconvert_exporter": "python",
   "pygments_lexer": "ipython3",
   "version": "3.9.16"
  }
 },
 "nbformat": 4,
 "nbformat_minor": 5
}
