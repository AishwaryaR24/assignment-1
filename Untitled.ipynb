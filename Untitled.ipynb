{
 "cells": [
  {
   "cell_type": "code",
   "execution_count": 1,
   "id": "9e82bbc9",
   "metadata": {},
   "outputs": [],
   "source": [
    "import cv2\n",
    "import numpy as np\n"
   ]
  },
  {
   "cell_type": "code",
   "execution_count": 2,
   "id": "a59dfb2c",
   "metadata": {},
   "outputs": [],
   "source": [
    "img=cv2.imread('C:/Users/aedpu/Downloads/aishflw.jpg')"
   ]
  },
  {
   "cell_type": "markdown",
   "id": "e58bf48c",
   "metadata": {},
   "source": [
    "cv2.imshow('cgvbh',img)\n",
    "cv2.waitKey(0)\n",
    "cv2.destroyAllWindows()"
   ]
  },
  {
   "cell_type": "code",
   "execution_count": 3,
   "id": "e8846458",
   "metadata": {},
   "outputs": [
    {
     "name": "stdout",
     "output_type": "stream",
     "text": [
      "(1200, 1600, 3)\n"
     ]
    }
   ],
   "source": [
    "shp=img.shape\n",
    "print(shp)"
   ]
  },
  {
   "cell_type": "code",
   "execution_count": 4,
   "id": "d98d0fab",
   "metadata": {},
   "outputs": [
    {
     "name": "stdout",
     "output_type": "stream",
     "text": [
      "1200\n",
      "1600\n"
     ]
    }
   ],
   "source": [
    "height,width=img.shape[:2]\n",
    "print(height)\n",
    "print(width)"
   ]
  },
  {
   "cell_type": "code",
   "execution_count": 5,
   "id": "f7b54a0d",
   "metadata": {},
   "outputs": [
    {
     "name": "stdout",
     "output_type": "stream",
     "text": [
      "(600.0, 800.0)\n"
     ]
    }
   ],
   "source": [
    "center=(height/2,width/2)\n",
    "print(center)"
   ]
  },
  {
   "cell_type": "code",
   "execution_count": 6,
   "id": "5e791d8f",
   "metadata": {},
   "outputs": [
    {
     "name": "stdout",
     "output_type": "stream",
     "text": [
      "[[-5.000000e-01  6.123234e-17  9.000000e+02]\n",
      " [-6.123234e-17 -5.000000e-01  1.200000e+03]]\n"
     ]
    }
   ],
   "source": [
    "rotation_matrix= cv2.getRotationMatrix2D(center=center,angle=180,scale=0.5)\n",
    "print(rotation_matrix)                                        \n",
    "                                        "
   ]
  },
  {
   "cell_type": "code",
   "execution_count": 7,
   "id": "ea6b6c80",
   "metadata": {},
   "outputs": [
    {
     "data": {
      "text/plain": [
       "-1"
      ]
     },
     "execution_count": 7,
     "metadata": {},
     "output_type": "execute_result"
    }
   ],
   "source": [
    "rotated_image=cv2.warpAffine(src=img,M=rotation_matrix,dsize=(width,height))\n",
    "cv2.imshow('original',img)\n",
    "cv2.waitKey(4000)\n"
   ]
  },
  {
   "cell_type": "code",
   "execution_count": 8,
   "id": "7979899c",
   "metadata": {},
   "outputs": [
    {
     "data": {
      "text/plain": [
       "-1"
      ]
     },
     "execution_count": 8,
     "metadata": {},
     "output_type": "execute_result"
    }
   ],
   "source": [
    "cv2.imshow('rotated image',rotated_image)\n",
    "cv2.waitKey(4000)"
   ]
  },
  {
   "cell_type": "code",
   "execution_count": 9,
   "id": "4871ee3c",
   "metadata": {},
   "outputs": [
    {
     "data": {
      "text/plain": [
       "True"
      ]
     },
     "execution_count": 9,
     "metadata": {},
     "output_type": "execute_result"
    }
   ],
   "source": [
    "cv2.imwrite(\"rotated image.jpg\",rotated_image)"
   ]
  },
  {
   "cell_type": "code",
   "execution_count": 10,
   "id": "ffc8e423",
   "metadata": {},
   "outputs": [
    {
     "name": "stdout",
     "output_type": "stream",
     "text": [
      "16.0\n",
      "12.0\n"
     ]
    }
   ],
   "source": [
    "tx,ty=width/100,height/100\n",
    "print(tx)\n",
    "print(ty)"
   ]
  },
  {
   "cell_type": "code",
   "execution_count": 11,
   "id": "fa513a61",
   "metadata": {},
   "outputs": [],
   "source": [
    "trans_matrix=np.array([[1,0,tx],[0,1,ty]])"
   ]
  },
  {
   "cell_type": "code",
   "execution_count": 12,
   "id": "be44502a",
   "metadata": {},
   "outputs": [],
   "source": [
    "translated_image=cv2.warpAffine(src=img,M=trans_matrix,dsize=(width,height))"
   ]
  },
  {
   "cell_type": "code",
   "execution_count": 13,
   "id": "e0a4a69b",
   "metadata": {},
   "outputs": [
    {
     "data": {
      "text/plain": [
       "-1"
      ]
     },
     "execution_count": 13,
     "metadata": {},
     "output_type": "execute_result"
    }
   ],
   "source": [
    "cv2.imshow('translated image',translated_image)\n",
    "cv2.waitKey(4000)"
   ]
  },
  {
   "cell_type": "code",
   "execution_count": 14,
   "id": "13a51708",
   "metadata": {},
   "outputs": [
    {
     "data": {
      "text/plain": [
       "True"
      ]
     },
     "execution_count": 14,
     "metadata": {},
     "output_type": "execute_result"
    }
   ],
   "source": [
    "cv2.imwrite(\"translated image.jpg\",translated_image)"
   ]
  },
  {
   "cell_type": "code",
   "execution_count": 15,
   "id": "b9f7d7d1",
   "metadata": {},
   "outputs": [],
   "source": [
    "re_size=cv2.resize(img,None,fx=0.2,fy=0.2,interpolation=cv2.INTER_LINEAR)"
   ]
  },
  {
   "cell_type": "code",
   "execution_count": 16,
   "id": "171e4238",
   "metadata": {},
   "outputs": [
    {
     "name": "stdout",
     "output_type": "stream",
     "text": [
      "(240, 320, 3)\n"
     ]
    }
   ],
   "source": [
    "print(re_size.shape)"
   ]
  },
  {
   "cell_type": "markdown",
   "id": "157b1ac4",
   "metadata": {},
   "source": [
    "cv2.imshow(\"re\",re_size)\n",
    "cv2.waitKey(0)\n",
    "cv2.destroyAllWindows()"
   ]
  },
  {
   "cell_type": "code",
   "execution_count": 17,
   "id": "70060572",
   "metadata": {},
   "outputs": [
    {
     "data": {
      "text/plain": [
       "True"
      ]
     },
     "execution_count": 17,
     "metadata": {},
     "output_type": "execute_result"
    }
   ],
   "source": [
    "cv2.imwrite(\"resize.jpg\",re_size)"
   ]
  },
  {
   "cell_type": "code",
   "execution_count": null,
   "id": "35594d79",
   "metadata": {},
   "outputs": [],
   "source": []
  }
 ],
 "metadata": {
  "kernelspec": {
   "display_name": "Python 3 (ipykernel)",
   "language": "python",
   "name": "python3"
  },
  "language_info": {
   "codemirror_mode": {
    "name": "ipython",
    "version": 3
   },
   "file_extension": ".py",
   "mimetype": "text/x-python",
   "name": "python",
   "nbconvert_exporter": "python",
   "pygments_lexer": "ipython3",
   "version": "3.9.16"
  }
 },
 "nbformat": 4,
 "nbformat_minor": 5
}
