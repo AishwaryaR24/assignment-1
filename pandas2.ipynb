{
 "cells": [
  {
   "cell_type": "code",
   "execution_count": 2,
   "id": "1b967038",
   "metadata": {},
   "outputs": [],
   "source": [
    "import numpy as np\n",
    "import pandas as pd"
   ]
  },
  {
   "cell_type": "code",
   "execution_count": 3,
   "id": "30d64573",
   "metadata": {},
   "outputs": [],
   "source": [
    "a=pd.DataFrame(np.random.randint(0,300,size=(20,4)),columns=list('abcd'))"
   ]
  },
  {
   "cell_type": "code",
   "execution_count": 6,
   "id": "b5a6ca56",
   "metadata": {},
   "outputs": [
    {
     "name": "stdout",
     "output_type": "stream",
     "text": [
      "      a    b    c    d\n",
      "0    37   23   50  110\n",
      "1   171  186  165    2\n",
      "2     0   41   14  156\n",
      "3   209  259  223  270\n",
      "4   136   45    7   56\n",
      "5   107  207  250  243\n",
      "6    73  290  244  122\n",
      "7    13   74   39  160\n",
      "8    26  129   48  201\n",
      "9    35  187  206  130\n",
      "10  190  194   32  109\n",
      "11  142  271  250  162\n",
      "12  195   12   32  193\n",
      "13  279  164  189  266\n",
      "14  119  217  164  258\n",
      "15  291   41  229  127\n",
      "16  282  215    4  159\n",
      "17  261    5  183  114\n",
      "18  277   59  286  149\n",
      "19    5  252    7   59\n"
     ]
    }
   ],
   "source": [
    "print(a)"
   ]
  },
  {
   "cell_type": "code",
   "execution_count": 5,
   "id": "fde0cf38",
   "metadata": {},
   "outputs": [],
   "source": [
    "b=pd.DataFrame(np.random.randint(0,200,size=(10,4)),columns=list('efgh'))"
   ]
  },
  {
   "cell_type": "code",
   "execution_count": null,
   "id": "03fc61eb",
   "metadata": {},
   "outputs": [],
   "source": []
  }
 ],
 "metadata": {
  "kernelspec": {
   "display_name": "Python 3 (ipykernel)",
   "language": "python",
   "name": "python3"
  },
  "language_info": {
   "codemirror_mode": {
    "name": "ipython",
    "version": 3
   },
   "file_extension": ".py",
   "mimetype": "text/x-python",
   "name": "python",
   "nbconvert_exporter": "python",
   "pygments_lexer": "ipython3",
   "version": "3.9.7"
  }
 },
 "nbformat": 4,
 "nbformat_minor": 5
}
